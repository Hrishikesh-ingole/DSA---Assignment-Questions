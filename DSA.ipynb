{
 "cells": [
  {
   "cell_type": "code",
   "execution_count": 3,
   "id": "170c81a7-9849-41bb-a8a2-97c4715cfd15",
   "metadata": {},
   "outputs": [],
   "source": [
    "class Node:   \n",
    "    def __init__(self,data=None,next=None):\n",
    "        self.data = data\n",
    "        self.next = next\n",
    "    \n",
    "    def setData(self,data):\n",
    "        self.data = data\n",
    "    \n",
    "    def getData(self):\n",
    "        return self.data\n",
    "    \n",
    "    def setNext(self,next):\n",
    "        self.next = next\n",
    "    \n",
    "    def getNext(self):\n",
    "        return self.next\n",
    "    \n",
    "def traverse(head):\n",
    "    temp = head\n",
    "    while(temp):\n",
    "        print(temp.getData(), end='-->')\n",
    "        temp = temp.getNext()\n",
    "    #print('None')\n",
    "    "
   ]
  },
  {
   "cell_type": "raw",
   "id": "4191df11-322e-4d66-a5ed-b49b6cb312fd",
   "metadata": {},
   "source": [
    "Problem 1: Reverse a singly linked list.\n",
    "Input: 1 -> 2 -> 3 -> 4 -> 5\n",
    "Output: 5 -> 4 -> 3 -> 2 -> 1"
   ]
  },
  {
   "cell_type": "code",
   "execution_count": 4,
   "id": "0f6362fb-b73d-48a1-999a-d857b608dff8",
   "metadata": {},
   "outputs": [
    {
     "name": "stdout",
     "output_type": "stream",
     "text": [
      "below is the original Linked list\n",
      "1-->2-->3-->4-->5-->\n",
      "output : \n",
      "5-->4-->3-->2-->1-->"
     ]
    }
   ],
   "source": [
    "head = Node(1)\n",
    "node2 = Node(2)\n",
    "node3 = Node(3)\n",
    "node4 = Node(4)\n",
    "node5 = Node(5)\n",
    "\n",
    "head.setNext(node2)\n",
    "node2.setNext(node3)\n",
    "node3.setNext(node4)\n",
    "node4.setNext(node5)\n",
    "\n",
    "print('below is the original Linked list')\n",
    "traverse(head)\n",
    "print('')\n",
    "print('output : ')\n",
    "def reverse(head):\n",
    "    prev = 0\n",
    "    current = head\n",
    "    while(current):\n",
    "        next_node = current.getNext()\n",
    "        current.setNext(prev)\n",
    "        prev = current\n",
    "        current = next_node\n",
    "    head = prev\n",
    "    return head\n",
    "head = reverse(head)\n",
    "\n",
    "traverse(head)\n",
    "\n"
   ]
  },
  {
   "cell_type": "raw",
   "id": "f7ee3d1c-b047-401f-a866-d5485f83032b",
   "metadata": {},
   "source": [
    "Problem 2: Merge two sorted linked lists into one sorted linked list.\n",
    "\n",
    "Input: List 1: 1 -> 3 -> 5, List 2: 2 -> 4 -> 6\n",
    "Output: 1 -> 2 -> 3 -> 4 -> 5 -> 6"
   ]
  },
  {
   "cell_type": "code",
   "execution_count": 3,
   "id": "44fa908a-3586-4e87-ab47-3c30e903f836",
   "metadata": {},
   "outputs": [
    {
     "name": "stdout",
     "output_type": "stream",
     "text": [
      "1-->3-->5-->None\n",
      "2-->4-->6-->None\n",
      "----------------\n",
      "Output - \n",
      "1-->2-->3-->4-->5-->6-->"
     ]
    }
   ],
   "source": [
    "head1 = Node(1)\n",
    "node3 = Node(3)\n",
    "node5 = Node(5)\n",
    "\n",
    "head2 = Node(2)\n",
    "node4 = Node(4)\n",
    "node6 = Node(6)\n",
    "\n",
    "head1.setNext(node3)\n",
    "node3.setNext(node5)\n",
    "\n",
    "head2.setNext(node4)\n",
    "node4.setNext(node6)\n",
    "\n",
    "print(traverse(head1))\n",
    "print(traverse(head2))\n",
    "\n",
    "print('----------------')\n",
    "print('Output - ')\n",
    "\n",
    "def MergerLinkedLists(head1, head2):\n",
    "    temp_head = Node()\n",
    "    current = temp_head\n",
    "    \n",
    "    while(head1 and head2):\n",
    "        if (head1.getData()) < (head2.getData()):\n",
    "            current.setNext(head1)\n",
    "            head1 = head1.getNext()\n",
    "        else:\n",
    "            current.setNext(head2)\n",
    "            head2 = head2.getNext()\n",
    "        current  = current.getNext()\n",
    "    if head1:\n",
    "        current.setNext(head1)\n",
    "    else:\n",
    "        current.setNext(head2)\n",
    "    temp_head = temp_head.getNext()\n",
    "    return temp_head\n",
    "\n",
    "temp_head = MergerLinkedLists(head1,head2)\n",
    "traverse(temp_head)\n"
   ]
  },
  {
   "cell_type": "raw",
   "id": "9001e025-14aa-442b-9281-866bc09477da",
   "metadata": {},
   "source": [
    "Problem 3: Remove the nth node from the end of a linked list."
   ]
  },
  {
   "cell_type": "code",
   "execution_count": 4,
   "id": "d6ab24c4-70a1-4fc5-9d16-683d6d1cecfb",
   "metadata": {},
   "outputs": [
    {
     "name": "stdout",
     "output_type": "stream",
     "text": [
      "1-->2-->3-->4-->5-->"
     ]
    }
   ],
   "source": [
    "head = Node(1)\n",
    "node2 = Node(2)\n",
    "node3 = Node(3)\n",
    "node4 = Node(4)\n",
    "node5 = Node(5)\n",
    "\n",
    "head.setNext(node2)\n",
    "node2.setNext(node3)\n",
    "node3.setNext(node4)\n",
    "node4.setNext(node5)\n",
    "\n",
    "traverse(head)"
   ]
  },
  {
   "cell_type": "code",
   "execution_count": 5,
   "id": "3ef40f00-995e-4842-a3f8-b37702cd4afd",
   "metadata": {},
   "outputs": [
    {
     "name": "stdout",
     "output_type": "stream",
     "text": [
      "2-->3-->4-->5-->"
     ]
    }
   ],
   "source": [
    "def Removenodefromend(head,n):    \n",
    "    temp = head\n",
    "    length = 0\n",
    "    \n",
    "    while(temp):\n",
    "        length += 1\n",
    "        temp = temp.getNext()\n",
    "    if 0< n <= length :\n",
    "        k = length - n\n",
    "        \n",
    "        if k == 0:\n",
    "            head = head.getNext()\n",
    "            return head\n",
    "\n",
    "        else:\n",
    "            i = 0\n",
    "            temp = head\n",
    "            while(i<k-1):\n",
    "                temp = temp.getNext()\n",
    "                i+=1\n",
    "            temp.setNext(temp.getNext().getNext())\n",
    "        return head\n",
    "    else:\n",
    "        print('N is invalid')\n",
    "        return None\n",
    "\n",
    "head = Node(1)\n",
    "node2 = Node(2)\n",
    "node3 = Node(3)\n",
    "node4 = Node(4)\n",
    "node5 = Node(5)\n",
    "\n",
    "head.setNext(node2)\n",
    "node2.setNext(node3)\n",
    "node3.setNext(node4)\n",
    "node4.setNext(node5)\n",
    "    \n",
    "head = Removenodefromend(head,5)\n",
    "traverse(head)\n",
    "          \n"
   ]
  },
  {
   "cell_type": "code",
   "execution_count": 6,
   "id": "20fb0ea3-1556-4643-8072-1abd365923e7",
   "metadata": {},
   "outputs": [
    {
     "name": "stdout",
     "output_type": "stream",
     "text": [
      "1-->2-->3-->4-->\n",
      "9-->8-->3-->4-->"
     ]
    },
    {
     "data": {
      "text/plain": [
       "(3, 'is intersection point')"
      ]
     },
     "execution_count": 6,
     "metadata": {},
     "output_type": "execute_result"
    }
   ],
   "source": [
    "def FindIntersection(head1,head2):\n",
    "  while(head1):\n",
    "    temp = head2\n",
    "    while(temp):\n",
    "      if head1 == temp:\n",
    "        return (temp.getData(),'is intersection point')\n",
    "      temp = temp.getNext()\n",
    "    temp = head2\n",
    "    head1 = head1.getNext()\n",
    "  return ('No intersection found')\n",
    "\n",
    "\n",
    "\n",
    "\n",
    "head1 = Node(1)\n",
    "node2 = Node(2)\n",
    "node3 = Node(3)\n",
    "node4 = Node(4)\n",
    "head2 = Node(9)\n",
    "node8= Node(8)\n",
    "\n",
    "head1.setNext(node2)\n",
    "node2.setNext(node3)\n",
    "node3.setNext(node4)\n",
    "head2.setNext(node8)\n",
    "node8.setNext(node3)\n",
    "\n",
    "traverse(head1)\n",
    "print()\n",
    "traverse(head2)\n",
    "\n",
    "FindIntersection(head1, head2)"
   ]
  },
  {
   "cell_type": "raw",
   "id": "3b1a73d7-6e5e-47b7-ab0c-a29db17fbd07",
   "metadata": {},
   "source": [
    "Problem 5: Remove duplicates from a sorted linked list."
   ]
  },
  {
   "cell_type": "code",
   "execution_count": 7,
   "id": "39482675-c984-4de2-b71e-e0edf666fd4e",
   "metadata": {},
   "outputs": [
    {
     "name": "stdout",
     "output_type": "stream",
     "text": [
      "1-->1-->2-->3-->3-->\n",
      "1-->2-->3-->"
     ]
    }
   ],
   "source": [
    "def RemvoeDuplicates(head):\n",
    "  current  = head\n",
    "  while current:\n",
    "    temp = current\n",
    "    while temp.getNext():\n",
    "      if current.getData() == temp.getNext().getData():\n",
    "        temp.setNext(temp.getNext().getNext())\n",
    "      else:\n",
    "        temp = temp.getNext()\n",
    "    current = current.getNext()\n",
    "  return head\n",
    "\n",
    "\n",
    "\n",
    "\n",
    "head = Node(1)\n",
    "node2 = Node(1)\n",
    "node3 = Node(2)\n",
    "node4 = Node(3)\n",
    "node5 = Node(3)\n",
    "\n",
    "head.setNext(node2)\n",
    "node2.setNext(node3)\n",
    "node3.setNext(node4)\n",
    "node4.setNext(node5)\n",
    "\n",
    "traverse(head)\n",
    "print('')\n",
    "head = RemvoeDuplicates(head)\n",
    "traverse(head)"
   ]
  },
  {
   "cell_type": "raw",
   "id": "a9eef937-0eab-4747-a9bc-b86e5783d905",
   "metadata": {},
   "source": [
    "Problem 6: Add two numbers represented by linked lists (where each node contains a single digit).\n",
    "\n",
    "Input: List 1: 2 -> 4 -> 3, List 2: 5 -> 6 -> 4 (represents 342 + 465)\n",
    "Output: 7 -> 0 -> 8 (represents 807)"
   ]
  },
  {
   "cell_type": "code",
   "execution_count": 8,
   "id": "33c6eeb0-e583-49e2-ab72-90c9319aed7b",
   "metadata": {},
   "outputs": [
    {
     "name": "stdout",
     "output_type": "stream",
     "text": [
      "2-->4-->3-->\n",
      "5-->6-->4-->\n",
      "7-->0-->8-->"
     ]
    }
   ],
   "source": [
    "def addingLL(head1, head2):\n",
    "  temp1 = head1\n",
    "  temp2 = head2\n",
    "  carry = 0\n",
    "  while(temp1 and temp2):\n",
    "    data1 = temp1.getData()\n",
    "    data2 = temp2.getData()\n",
    "    fsum = data1 + data2 + carry\n",
    "    if temp1.getNext():\n",
    "      temp1.setData(fsum%10) \n",
    "    else:\n",
    "      temp1.setData(fsum)\n",
    "    carry = fsum //10\n",
    "    temp1 = temp1.getNext()\n",
    "    temp2 = temp2.getNext()\n",
    "  return head1\n",
    "  \n",
    "\n",
    "head1 = Node(2)\n",
    "node2 = Node(4)\n",
    "node3 = Node(3)\n",
    "\n",
    "head2 = Node(5)\n",
    "node4 = Node(6)\n",
    "node5 = Node(4)\n",
    "\n",
    "head1.setNext(node2)\n",
    "node2.setNext(node3)\n",
    "\n",
    "head2.setNext(node4)\n",
    "node4.setNext(node5)\n",
    "\n",
    "traverse(head1)\n",
    "print('')\n",
    "\n",
    "traverse(head2)\n",
    "print('')\n",
    "\n",
    "\n",
    "head = addingLL(head1,head2)\n",
    "traverse(head)\n"
   ]
  },
  {
   "cell_type": "raw",
   "id": "2aa14f79-0ec6-48c2-8d5a-6eecc7205279",
   "metadata": {},
   "source": [
    "Problem 7: Swap nodes in pairs in a linked list.\n",
    "\n",
    "Input: 1 -> 2 -> 3 -> 4\n",
    "Output: 2 -> 1 -> 4 -> 3"
   ]
  },
  {
   "cell_type": "code",
   "execution_count": 9,
   "id": "ef2172fe-2d3d-4e09-87ae-3791f13da90e",
   "metadata": {},
   "outputs": [
    {
     "name": "stdout",
     "output_type": "stream",
     "text": [
      "1-->2-->3-->4-->\n",
      "2-->1-->4-->3-->"
     ]
    }
   ],
   "source": [
    "def swapNodes(head):\n",
    "  newnode = Node(0)\n",
    "  newnode.setNext(head)\n",
    "  prev = newnode\n",
    "  while(prev.getNext() and prev.getNext().getNext()):\n",
    "    first = prev.getNext()\n",
    "    second = prev.getNext().getNext()\n",
    "    first.setNext(second.getNext())\n",
    "    second.setNext(first)\n",
    "    prev.setNext(second)\n",
    "    prev = first\n",
    "  return newnode.getNext()\n",
    "\n",
    "head = Node(1)\n",
    "node2 = Node(2)\n",
    "node3 = Node(3)\n",
    "node4 = Node(4)\n",
    "\n",
    "head.setNext(node2)\n",
    "node2.setNext(node3)\n",
    "node3.setNext(node4)\n",
    "traverse(head)\n",
    "print('')\n",
    "\n",
    "\n",
    "head = swapNodes(head)\n",
    "traverse(head)\n"
   ]
  },
  {
   "cell_type": "raw",
   "id": "7a42a6fb-9a59-43d0-997e-2d16fb8f3b6b",
   "metadata": {},
   "source": [
    "Problem 8: Reverse nodes in a linked list in groups of k.\n",
    "\n",
    "Input: 1 -> 2 -> 3 -> 4 -> 5, k = 3\n",
    "Output: 3 -> 2 -> 1 -> 4 -> 5"
   ]
  },
  {
   "cell_type": "code",
   "execution_count": 10,
   "id": "f7870e86-19f6-4b1d-8e38-e815bca0dd18",
   "metadata": {},
   "outputs": [
    {
     "name": "stdout",
     "output_type": "stream",
     "text": [
      "1-->2-->3-->4-->5-->\n",
      "3-->2-->1-->4-->5-->"
     ]
    }
   ],
   "source": [
    "def ReverseFromK(head,k):\n",
    "  first = head\n",
    "  head_node = head\n",
    "  second = first.getNext()\n",
    "  n = 0\n",
    "  while(n<k-1):\n",
    "    next = second.getNext()\n",
    "    second.setNext(first)\n",
    "    first = second\n",
    "    second = next\n",
    "    n+=1\n",
    "  head_node.setNext(second)\n",
    "  head = first\n",
    "  return head\n",
    "\n",
    "\n",
    "\n",
    "\n",
    "head = Node(1)\n",
    "node2 = Node(2)\n",
    "node3 = Node(3)\n",
    "node4 = Node(4)\n",
    "node5 = Node(5)\n",
    "\n",
    "head.setNext(node2)\n",
    "node2.setNext(node3)\n",
    "node3.setNext(node4)\n",
    "node4.setNext(node5)\n",
    "\n",
    "traverse(head)\n",
    "print()\n",
    "head = ReverseFromK(head,3)\n",
    "traverse(head)\n"
   ]
  },
  {
   "cell_type": "raw",
   "id": "6885cc49-0aca-45f2-ac94-22dbb463ae81",
   "metadata": {},
   "source": [
    "Problem 9: Determine if a linked list is a palindrome.\n",
    "\n",
    "Input: 1 -> 2 -> 2 -> 1\n",
    "Output: True"
   ]
  },
  {
   "cell_type": "code",
   "execution_count": 11,
   "id": "6f604c03-7949-425e-9819-8e1cdb5cf271",
   "metadata": {},
   "outputs": [
    {
     "name": "stdout",
     "output_type": "stream",
     "text": [
      "1-->2-->2-->1-->"
     ]
    },
    {
     "data": {
      "text/plain": [
       "True"
      ]
     },
     "execution_count": 11,
     "metadata": {},
     "output_type": "execute_result"
    }
   ],
   "source": [
    "def Findlength(head):\n",
    "  temp = head\n",
    "  l = 0\n",
    "  while(temp):\n",
    "    l+=1\n",
    "    temp = temp.getNext()\n",
    "  return l\n",
    "\n",
    "def Reverse(head):\n",
    "  current = head\n",
    "  prev = None\n",
    "  while(current):\n",
    "    temp_next = current.getNext()\n",
    "    current.setNext(prev)\n",
    "    prev = current\n",
    "    current = temp_next\n",
    "  head1 = prev\n",
    "  return head1\n",
    "\n",
    "\n",
    "def FindIfPalindrom(head):\n",
    "  l = Findlength(head)\n",
    "  mid = l//2\n",
    "  first = head\n",
    "  temp_node = None\n",
    "\n",
    "  i = 1\n",
    "  while(i<mid):\n",
    "    first = first.getNext()\n",
    "    i+=1\n",
    "  next = first.getNext()\n",
    "  first.setNext(temp_node)\n",
    "  newhead = next\n",
    "\n",
    "  if l % 2 == 0:\n",
    "    head1 = Reverse(newhead)\n",
    "  else:\n",
    "    head1 = Reverse(newhead.getNext())\n",
    "  \n",
    "  while(head):\n",
    "    if head.getData() == head1.getData():\n",
    "      head = head.getNext()\n",
    "      head1 = head1.getNext()\n",
    "    else:\n",
    "      return False\n",
    "  return True\n",
    "\n",
    "  \n",
    "\n",
    "    \n",
    "\n",
    "head = Node(1)\n",
    "node2 = Node(2)\n",
    "node3 = Node(2)\n",
    "node4 = Node(1)\n",
    "\n",
    "\n",
    "head.setNext(node2)\n",
    "node2.setNext(node3)\n",
    "node3.setNext(node4)\n",
    "\n",
    "\n",
    "traverse(head)\n",
    "FindIfPalindrom(head)"
   ]
  },
  {
   "cell_type": "raw",
   "id": "978647c2-b96f-4b76-bf97-d7efd19f5508",
   "metadata": {},
   "source": [
    "Problem 10: Rotate a linked list to the right by k places.\n",
    "Input: 1 -> 2 -> 3 -> 4 -> 5, k = 2\n",
    "Output: 4 -> 5 -> 1 -> 2 -> 3"
   ]
  },
  {
   "cell_type": "code",
   "execution_count": 10,
   "id": "225d5048-f39b-41ec-adf7-a40f9fb031b5",
   "metadata": {},
   "outputs": [
    {
     "name": "stdout",
     "output_type": "stream",
     "text": [
      "1-->2-->3-->4-->5-->\n",
      "1-->5-->4-->3-->2-->"
     ]
    }
   ],
   "source": [
    "def RotateLLAfterK(head,k):\n",
    "  noneNode = None\n",
    "  first = head\n",
    "  if k<=1:\n",
    "    next = first\n",
    "  else:\n",
    "    next = head.getNext()\n",
    "  i = 1\n",
    "  while(i<k-1):\n",
    "    next = next.getNext()\n",
    "    first = first.getNext()\n",
    "    i+=1\n",
    "  current = next\n",
    "  prev= noneNode\n",
    "  while(current):\n",
    "    nextNode = current.getNext()\n",
    "    current.setNext(prev)\n",
    "    prev = current\n",
    "    current = nextNode\n",
    "  head1 = prev\n",
    "  if k<=1:\n",
    "    return head1\n",
    "  first.setNext(head1)\n",
    "  return head\n",
    "\n",
    "\n",
    "\n",
    "head = Node(1)\n",
    "node2 = Node(2)\n",
    "node3 = Node(3)\n",
    "node4 = Node(4)\n",
    "node5 = Node(5)\n",
    "\n",
    "\n",
    "\n",
    "head.setNext(node2)\n",
    "node2.setNext(node3)\n",
    "node3.setNext(node4)\n",
    "node4.setNext(node5)\n",
    "\n",
    "\n",
    "traverse(head)\n",
    "print()\n",
    "head = RotateLLAfterK(head,2)\n",
    "traverse(head)\n"
   ]
  },
  {
   "cell_type": "raw",
   "id": "bad5f38f-b2a0-489e-8c29-3fc494e79363",
   "metadata": {},
   "source": [
    "Problem 13: Given a non-negative number represented as a linked list, add one to it.\n",
    "Input: 1 -> 2 -> 3 (represents the number 123)\n",
    "Output: 1 -> 2 -> 4 (represents the number 124)"
   ]
  },
  {
   "cell_type": "code",
   "execution_count": 6,
   "id": "844eac2d-b1d5-43b1-b12c-ec86ecb52abb",
   "metadata": {},
   "outputs": [
    {
     "name": "stdout",
     "output_type": "stream",
     "text": [
      "1-->2-->3-->\n",
      "1-->2-->4-->"
     ]
    }
   ],
   "source": [
    "def AddOne(head):\n",
    "  first = head\n",
    "  temp = 0\n",
    "  while(first):\n",
    "    temp = first\n",
    "    first = first.getNext()\n",
    "  temp.setData(temp.getData() +1)\n",
    "  return head\n",
    "head = Node(1)\n",
    "node2 = Node(2)\n",
    "node3 = Node(3)\n",
    "\n",
    "head.setNext(node2)\n",
    "node2.setNext(node3)\n",
    "\n",
    "traverse(head)\n",
    "head = AddOne(head)\n",
    "print()\n",
    "traverse(head)"
   ]
  },
  {
   "cell_type": "raw",
   "id": "2d81a212-651a-43f0-88ad-b68d6017f822",
   "metadata": {},
   "source": [
    "Problem 14: Given a sorted array and a target value, return the index if the target is found. If not, return the\n",
    "index where it would be inserted.\n",
    "Input: nums = [1, 3, 5, 6], target = 5\n",
    "Output: 2"
   ]
  },
  {
   "cell_type": "code",
   "execution_count": 9,
   "id": "f637032d-20d0-4e14-9c1b-1363cc56c69a",
   "metadata": {},
   "outputs": [
    {
     "data": {
      "text/plain": [
       "2"
      ]
     },
     "execution_count": 9,
     "metadata": {},
     "output_type": "execute_result"
    }
   ],
   "source": [
    "def getIndex(arr,traget):\n",
    "  if target <= arr[0]:\n",
    "    if target == arr[0]:\n",
    "      return f'The {target} element is at 0th position'\n",
    "    return f'The {target} element can be inserted at 0th position'\n",
    "\n",
    "  else:\n",
    "    for i in range(0, len(arr)-2):\n",
    "      if arr[i] <= target and target <= arr[i+1]:\n",
    "        if arr[i] == target:\n",
    "          return i\n",
    "        elif arr[i+1] == target:\n",
    "          return i+1\n",
    "        return f'The {target} element can be inserted at {i+1} position'\n",
    "    return f'The {target} element can be inserted at {len(arr)} position'\n",
    "#driver code\n",
    "arr = [1,3,5,6]\n",
    "target = 5\n",
    "getIndex(arr,target)"
   ]
  },
  {
   "cell_type": "raw",
   "id": "165b8c87-77ba-4276-b708-dc2536701900",
   "metadata": {},
   "source": [
    "Problem 15: Find the minimum element in a rotated sorted array.\n",
    "\n",
    "Input: [4, 5, 6, 7, 0, 1, 2]\n",
    "\n",
    "Output: 0"
   ]
  },
  {
   "cell_type": "code",
   "execution_count": 2,
   "id": "585175e9-c089-4d47-99d1-1e4354c881a7",
   "metadata": {},
   "outputs": [
    {
     "data": {
      "text/plain": [
       "0"
      ]
     },
     "execution_count": 2,
     "metadata": {},
     "output_type": "execute_result"
    }
   ],
   "source": [
    "def Findmin(arr, left, right):\n",
    "  mid = left + (right - left )//2\n",
    "\n",
    "  if left >= right:\n",
    "    return arr[mid]\n",
    "  \n",
    "  else:\n",
    "    if arr[mid - 1] > arr[mid] < arr[mid + 1]:\n",
    "      return arr[mid]\n",
    "    \n",
    "    elif arr[left]  < arr[right]:\n",
    "      return Findmin(arr, left, mid-1)\n",
    "    \n",
    "    return Findmin(arr, mid+1, right)\n",
    "\n",
    "arr =  [4, 5, 6, 7, 0, 1, 2]\n",
    "\n",
    "Findmin(arr, 0 , len(arr)-1)"
   ]
  },
  {
   "cell_type": "raw",
   "id": "38daaa5a-ac86-473e-b75f-2aa0ea94bb66",
   "metadata": {},
   "source": [
    "Problem 16: Search for a target value in a rotated sorted array.\n",
    "Input: nums = [4, 5, 6, 7, 0, 1, 2], target = 0\n",
    "Output: 4"
   ]
  },
  {
   "cell_type": "code",
   "execution_count": 5,
   "id": "efe678fc-dbaf-45a0-9c59-2456f713d3e1",
   "metadata": {},
   "outputs": [
    {
     "data": {
      "text/plain": [
       "4"
      ]
     },
     "execution_count": 5,
     "metadata": {},
     "output_type": "execute_result"
    }
   ],
   "source": [
    "def Findnum(arr, target):\n",
    "  for i in range(len(arr)):\n",
    "    if arr[i] == target:\n",
    "      return i\n",
    "  return 'not found'\n",
    "\n",
    "arr = [4, 5, 6, 7, 0, 1, 2]\n",
    "target = 0\n",
    "Findnum(arr, target)"
   ]
  },
  {
   "cell_type": "raw",
   "id": "a14fbc70-3695-456f-aa70-1e4b97a9f34d",
   "metadata": {},
   "source": [
    "Problem 17: Find the peak element in an array. A peak element is greater than its neighbors.\n",
    "Input: nums = [1, 2, 3, 1]\n",
    "Output: 2 (index of peak element)"
   ]
  },
  {
   "cell_type": "code",
   "execution_count": 6,
   "id": "d0660fed-69ea-431e-91ed-6d87fb6dd1e7",
   "metadata": {},
   "outputs": [
    {
     "data": {
      "text/plain": [
       "2"
      ]
     },
     "execution_count": 6,
     "metadata": {},
     "output_type": "execute_result"
    }
   ],
   "source": [
    "def findpeak(arr):\n",
    "  gretter = 0\n",
    "  ind_g = 0\n",
    "  for i in range(1,len(arr)-1):\n",
    "    if arr[i-1] < arr[i] > arr[i+1]:\n",
    "      if arr[i] > gretter:\n",
    "        gretter = arr[i]\n",
    "        ind_g = i\n",
    "  if gretter == 0 :\n",
    "    return 'Not found'\n",
    "  return ind_g\n",
    "\n",
    "arr = [1, 2, 3, 1]\n",
    "findpeak(arr)"
   ]
  },
  {
   "cell_type": "raw",
   "id": "bb4a0c10-7ade-420d-a507-ccd59cd14f01",
   "metadata": {},
   "source": [
    "Problem 18: Given a m x n matrix where each row and column is sorted in ascending order, count the number of negative numbers.\n",
    "\n",
    "Input: grid = [ [4, 3, 2, -1], \n",
    "                [3, 2, 1, -1], \n",
    "                [1, 1, -1, -2], \n",
    "                [-1, -1, -2, -3]]\n",
    "\n",
    "Output: 8"
   ]
  },
  {
   "cell_type": "code",
   "execution_count": 8,
   "id": "5d120c2c-9a65-4699-b6e6-98e6c29043a9",
   "metadata": {},
   "outputs": [
    {
     "data": {
      "text/plain": [
       "8"
      ]
     },
     "execution_count": 8,
     "metadata": {},
     "output_type": "execute_result"
    }
   ],
   "source": [
    "def Findnegatives(arr):\n",
    "  counter = 0\n",
    "  for i in range(len(arr)):\n",
    "    for j in range(len(arr[i])):\n",
    "      if arr[i][j] < 0:\n",
    "        counter += 1\n",
    "  return counter\n",
    "        \n",
    "arr = [\n",
    "    [4,3,2,-1],\n",
    "    [3,2,1,-1],\n",
    "    [1,1,-2,-2],\n",
    "    [-1,-1,-2,-3]\n",
    "]\n",
    "\n",
    "Findnegatives(arr)"
   ]
  },
  {
   "cell_type": "raw",
   "id": "6864d829-da86-4069-8ec0-8c7af7d43726",
   "metadata": {},
   "source": [
    "Problem 19: Given a 2D matrix sorted in ascending order in each row, and the first integer of each row is\n",
    "greater than the last integer of the previous row, determine if a target value is present in the matrix.\n",
    "\n",
    "Input: matrix = [[1, 3, 5, 7], [10, 11, 16, 20], [23, 30, 34, 60]], target = 3\n",
    "\n",
    "Output: True"
   ]
  },
  {
   "cell_type": "code",
   "execution_count": 1,
   "id": "6c019189-c935-4daa-aba2-c0ce6ad0d14a",
   "metadata": {},
   "outputs": [
    {
     "data": {
      "text/plain": [
       "True"
      ]
     },
     "execution_count": 1,
     "metadata": {},
     "output_type": "execute_result"
    }
   ],
   "source": [
    "def Findnegatives(arr, target):\n",
    "  for i in range(len(arr)):\n",
    "    for j in range(len(arr[i])):\n",
    "      if arr[i][j] == target:\n",
    "        return True\n",
    "  return False\n",
    "        \n",
    "arr = [[1, 3, 5, 7], [10, 11, 16, 20], [23, 30, 34, 60]]\n",
    "target = 3\n",
    "Findnegatives(arr, target)"
   ]
  },
  {
   "cell_type": "raw",
   "id": "c603272a-1323-4e5d-95c9-301943acbbed",
   "metadata": {},
   "source": [
    "Problem 20: Find Median in Two Sorted Arrays\n",
    "Problem: Given two sorted arrays, find the median of the combined sorted array.\n",
    "\n",
    "Input: nums1 = [1, 3], nums2 = [2]\n",
    "\n",
    "Output: 2.0"
   ]
  },
  {
   "cell_type": "code",
   "execution_count": 2,
   "id": "9d34821a-16bf-48f0-8437-3d3a61e1c8db",
   "metadata": {},
   "outputs": [
    {
     "name": "stdout",
     "output_type": "stream",
     "text": [
      "2.0\n"
     ]
    }
   ],
   "source": [
    "nums1 = [1, 3]\n",
    "nums2 = [2]\n",
    "num = nums1 +  nums2\n",
    "sum_num = 0\n",
    "counter = 0\n",
    "for i in range(len(num)):\n",
    "  sum_num = sum_num + num[i]\n",
    "  counter+=1\n",
    "print(sum_num / counter)"
   ]
  },
  {
   "cell_type": "raw",
   "id": "4f087e90-ae08-4d0d-8973-7472784e64a3",
   "metadata": {},
   "source": [
    "Problem 21: Given a sorted character array and a target letter, find the smallest letter in the array that is\n",
    "greater than the target.\n",
    "\n",
    "Input: letters = ['c', 'f', 'j'], target = a\n",
    "\n",
    "Output: 'c'"
   ]
  },
  {
   "cell_type": "code",
   "execution_count": 5,
   "id": "97591f12-a73d-4321-b60f-b74818203227",
   "metadata": {},
   "outputs": [
    {
     "data": {
      "text/plain": [
       "'c'"
      ]
     },
     "execution_count": 5,
     "metadata": {},
     "output_type": "execute_result"
    }
   ],
   "source": [
    "def FindSmallestAfterTarget(arr, target):\n",
    "  small = ord(arr[len(arr)-1])\n",
    "  for i in range(len(arr)):\n",
    "    if ord(arr[i]) > ord(target) and ord(arr[i]) < small:\n",
    "      small = ord(arr[i])\n",
    "  return chr(small)\n",
    "\n",
    "letters = ['c', 'f', 'j']\n",
    "target = 'a'\n",
    "FindSmallestAfterTarget(letters,target)"
   ]
  },
  {
   "cell_type": "raw",
   "id": "9c99188e-9878-499f-98c0-a94a5c3f3a2c",
   "metadata": {},
   "source": [
    "Problem 22: Given an array with n objects colored red, white, or blue, sort them in-place so that objects of\n",
    "the same color are adjacent, with the colors in the order red, white, and blue.\n",
    "\n",
    "Input: nums = [2, 0, 2, 1, 1, 0]\n",
    "\n",
    "Output: [0, 0, 1, 1, 2, 2]\n"
   ]
  },
  {
   "cell_type": "code",
   "execution_count": 8,
   "id": "af5575a9-c227-4c76-a189-7f17fb21b0df",
   "metadata": {},
   "outputs": [
    {
     "data": {
      "text/plain": [
       "[0, 0, 1, 1, 2, 2]"
      ]
     },
     "execution_count": 8,
     "metadata": {},
     "output_type": "execute_result"
    }
   ],
   "source": [
    "def ArrangeColors(arr):\n",
    "  for i in range(len(arr)-1,0,-1):\n",
    "    for j in range(i):\n",
    "      if arr[i] < arr[j]:\n",
    "        arr[i],arr[j] = arr[j],arr[i]\n",
    "  return arr\n",
    "arr = [2, 0, 2, 1, 1, 0]\n",
    "ArrangeColors(arr)"
   ]
  },
  {
   "cell_type": "raw",
   "id": "fed1b74c-3181-4646-81e0-c2ff270237a5",
   "metadata": {},
   "source": [
    "Problem 23: Find the kth largest element in an unsorted array.\n",
    "\n",
    "Input: nums = [3, 2, 1, 5, 6, 4], k = 2\n",
    "\n",
    "Output: 5"
   ]
  },
  {
   "cell_type": "code",
   "execution_count": 11,
   "id": "f721e109-776b-4857-8140-0ee3f5330d3d",
   "metadata": {},
   "outputs": [
    {
     "data": {
      "text/plain": [
       "5"
      ]
     },
     "execution_count": 11,
     "metadata": {},
     "output_type": "execute_result"
    }
   ],
   "source": [
    "def findKLargest(arr,k):\n",
    "  for i in range(len(arr)-1,0,-1):\n",
    "    for j in range(i):\n",
    "      if arr[i] < arr[j]:\n",
    "        arr[i],arr[j] = arr[j],arr[i]\n",
    "  return arr[len(arr)-k]\n",
    "\n",
    "nums = [3, 2, 1, 5, 6, 4]\n",
    "k = 2\n",
    "findKLargest(nums,k)"
   ]
  },
  {
   "cell_type": "raw",
   "id": "6ef67a29-f415-47b4-9984-7819c876b2d4",
   "metadata": {},
   "source": [
    "Problem 24: Given an unsorted array, reorder it in-place such that nums[0] <= nums[1] >= nums[2] <=\n",
    "nums[3]...\n",
    "\n",
    "Input: nums = [3, 5, 2, 1, 6, 4]\n",
    "\n",
    "Output: [3, 5, 1, 6, 2, 4]"
   ]
  },
  {
   "cell_type": "code",
   "execution_count": 5,
   "id": "1e100772-26ec-4672-bf65-f7a88759af19",
   "metadata": {},
   "outputs": [
    {
     "data": {
      "text/plain": [
       "[3, 5, 2, 6, 1, 4]"
      ]
     },
     "execution_count": 5,
     "metadata": {},
     "output_type": "execute_result"
    }
   ],
   "source": [
    "def Reorder(arr):\n",
    "  for i in range(len(arr)-1):\n",
    "    if i %2 != 0:\n",
    "      if arr[i] < arr[i+1]:\n",
    "        arr[i+1],arr[i] = arr[i],arr[i+1]\n",
    "      elif arr[i-1]>arr[i]:\n",
    "        arr[i-1],arr[i] = arr[i],arr[i-1]\n",
    "  return arr\n",
    "arr = [3, 5, 2, 1, 6, 4]\n",
    "Reorder(arr)"
   ]
  },
  {
   "cell_type": "raw",
   "id": "26d6085f-603e-4e84-885e-90e2cb65d386",
   "metadata": {},
   "source": [
    "Problem 25: Given an array of integers, calculate the sum of all its elements.\n",
    "Input: [1, 2, 3, 4, 5]\n",
    "Output: 15"
   ]
  },
  {
   "cell_type": "code",
   "execution_count": 7,
   "id": "dadcf300-8f45-456d-9329-80918fc93fe9",
   "metadata": {},
   "outputs": [
    {
     "data": {
      "text/plain": [
       "15"
      ]
     },
     "execution_count": 7,
     "metadata": {},
     "output_type": "execute_result"
    }
   ],
   "source": [
    "def FindSum(arr):\n",
    "    sum = 0\n",
    "    for i in range(len(arr)):\n",
    "        sum = sum + arr[i]\n",
    "        \n",
    "    return sum\n",
    "\n",
    "arr  = [1, 2, 3, 4, 5]\n",
    "\n",
    "FindSum(arr)"
   ]
  },
  {
   "cell_type": "raw",
   "id": "f67009d6-92fa-4231-aeec-4e353b7ce1d2",
   "metadata": {},
   "source": [
    "Problem 26: Find the maximum element in an array of integers.\n",
    "Input: [3, 7, 2, 9, 4, 1]\n",
    "Output: 9"
   ]
  },
  {
   "cell_type": "code",
   "execution_count": 9,
   "id": "c57f7f45-7af7-4f89-98be-ce097c77295e",
   "metadata": {},
   "outputs": [
    {
     "data": {
      "text/plain": [
       "9"
      ]
     },
     "execution_count": 9,
     "metadata": {},
     "output_type": "execute_result"
    }
   ],
   "source": [
    "def Maximum(arr):\n",
    "    gretest = 0\n",
    "    for i in range(len(arr)):\n",
    "        if arr[i] > gretest:\n",
    "            gretest = arr[i]\n",
    "    return gretest\n",
    "\n",
    "arr = [3, 7, 2, 9, 4, 1]     \n",
    "Maximum(arr)"
   ]
  },
  {
   "cell_type": "raw",
   "id": "53456d56-5c5e-44da-93e8-62f74c2b4b16",
   "metadata": {},
   "source": [
    "Problem 27: Implement linear search to find the index of a target element in an array.\n",
    "Input: [5, 3, 8, 2, 7, 4], target = 8\n",
    "Output: 2"
   ]
  },
  {
   "cell_type": "code",
   "execution_count": 10,
   "id": "4b0e6c42-c230-4a21-9918-a3f6e70e5570",
   "metadata": {},
   "outputs": [
    {
     "data": {
      "text/plain": [
       "2"
      ]
     },
     "execution_count": 10,
     "metadata": {},
     "output_type": "execute_result"
    }
   ],
   "source": [
    "def findindex(arr, target):\n",
    "    for i in range(len(arr)):\n",
    "        if arr[i] == target:\n",
    "            return i\n",
    "arr = [5, 3, 8, 2, 7, 4]\n",
    "target = 8\n",
    "findindex(arr, target)"
   ]
  },
  {
   "cell_type": "raw",
   "id": "5afdb1f3-ea34-475d-88a6-b1f2b0aa2e5a",
   "metadata": {},
   "source": [
    "Problem 28 Calculate the factorial of a given number.\n",
    "Input: 5\n",
    "Output: 120 (as 5! = 5 * 4 * 3 * 2 * 1 = 120)"
   ]
  },
  {
   "cell_type": "code",
   "execution_count": 14,
   "id": "d1ebb272-b7e8-4212-a8ef-84528cdf2a3c",
   "metadata": {},
   "outputs": [
    {
     "data": {
      "text/plain": [
       "120"
      ]
     },
     "execution_count": 14,
     "metadata": {},
     "output_type": "execute_result"
    }
   ],
   "source": [
    "def FactOrial(num):\n",
    "    if num <= 0:\n",
    "        return 1\n",
    "    return num * FactOrial(num-1)\n",
    "num = 5\n",
    "FactOrial(num)"
   ]
  },
  {
   "cell_type": "raw",
   "id": "120f4095-6baf-4ab1-af08-f40be4243995",
   "metadata": {},
   "source": [
    "Problem 29: Check if a given number is a prime number.\n",
    "Input: 7\n",
    "Output: True"
   ]
  },
  {
   "cell_type": "code",
   "execution_count": 20,
   "id": "49f8f787-4d0b-4c87-bd53-e1ec52f213a9",
   "metadata": {},
   "outputs": [
    {
     "data": {
      "text/plain": [
       "True"
      ]
     },
     "execution_count": 20,
     "metadata": {},
     "output_type": "execute_result"
    }
   ],
   "source": [
    "def FindPrime(num):\n",
    "    for i in range(1,num):\n",
    "        if i != 1 and i != num:\n",
    "            if num%i == 0:\n",
    "                return False\n",
    "    return True\n",
    "\n",
    "num = 7\n",
    "FindPrime(num)\n",
    "        "
   ]
  },
  {
   "cell_type": "raw",
   "id": "83904953-d6db-494a-9af7-9ac9e5d1cbb0",
   "metadata": {},
   "source": [
    "Problem 30: Generate the Fibonacci series up to a given number n.\n",
    "Input: 8\n",
    "Output: [0, 1, 1, 2, 3, 5, 8, 13]"
   ]
  },
  {
   "cell_type": "code",
   "execution_count": 39,
   "id": "f2502fa5-c534-4197-976a-a3df8565cd3e",
   "metadata": {},
   "outputs": [
    {
     "data": {
      "text/plain": [
       "[0, 1, 1, 2, 3, 5, 8, 13]"
      ]
     },
     "execution_count": 39,
     "metadata": {},
     "output_type": "execute_result"
    }
   ],
   "source": [
    "def FiboNacci(num):\n",
    "    if num <= 1:\n",
    "        return num\n",
    "    if num ==2:\n",
    "        return 1\n",
    "    return FiboNacci(num-1) + FiboNacci(num-2)\n",
    "output = []\n",
    "def getFibList(num):\n",
    "    for i in range(num):\n",
    "        output.append(FiboNacci(i))\n",
    "    return output\n",
    "getFibList(num)"
   ]
  },
  {
   "cell_type": "raw",
   "id": "34bcab35-de1c-4c40-8de4-051be9043163",
   "metadata": {},
   "source": [
    "Problem 31: Calculate the power of a number using recursion.\n",
    "\n",
    "Input: base = 3, exponent = 4\n",
    "Output: 81 (as 3^4 = 3 * 3 * 3 * 3 = 81)"
   ]
  },
  {
   "cell_type": "code",
   "execution_count": 40,
   "id": "c129b9a1-5285-4eda-ad9d-15bcbc524731",
   "metadata": {},
   "outputs": [
    {
     "data": {
      "text/plain": [
       "81"
      ]
     },
     "execution_count": 40,
     "metadata": {},
     "output_type": "execute_result"
    }
   ],
   "source": [
    "def CalPower(base, exponent):\n",
    "    if exponent < 1:\n",
    "        return 0\n",
    "    if exponent == 1:\n",
    "        return base\n",
    "    return base * CalPower(base, exponent-1)\n",
    "base = 3\n",
    "exponent = 4\n",
    "CalPower(base, exponent)"
   ]
  },
  {
   "cell_type": "raw",
   "id": "5fee8a5a-19ee-4809-b01a-ab6530cb99bb",
   "metadata": {},
   "source": [
    "Problem 32: Reverse a given string.\n",
    "Input: \"hello\"\n",
    "Output: \"olleh\""
   ]
  },
  {
   "cell_type": "code",
   "execution_count": 72,
   "id": "fb6d98b4-85d3-41f3-aefa-9c7037fdbe3a",
   "metadata": {},
   "outputs": [
    {
     "data": {
      "text/plain": [
       "'olleh'"
      ]
     },
     "execution_count": 72,
     "metadata": {},
     "output_type": "execute_result"
    }
   ],
   "source": [
    "def reverseString(string):\n",
    "    i = 0\n",
    "    j = len(string)-1\n",
    "    str_list =list(string)\n",
    "    while(i <= j):\n",
    "        str_list[i], str_list[j] = str_list[j],str_list[i]\n",
    "        i+=1\n",
    "        j-=1\n",
    "    return ''.join(str_list)\n",
    "\n",
    "string = 'hello'\n",
    "reverseString(string)"
   ]
  },
  {
   "cell_type": "code",
   "execution_count": null,
   "id": "edb07d18-e744-4717-b64c-fd58b006fcfa",
   "metadata": {},
   "outputs": [],
   "source": []
  },
  {
   "cell_type": "code",
   "execution_count": null,
   "id": "2eee16ef-bda4-4299-b78a-fb688b88164a",
   "metadata": {},
   "outputs": [],
   "source": []
  },
  {
   "cell_type": "code",
   "execution_count": null,
   "id": "5cfb99d8-aa9d-4857-81db-ebf3f773e060",
   "metadata": {},
   "outputs": [],
   "source": []
  },
  {
   "cell_type": "code",
   "execution_count": null,
   "id": "329fcbe4-b6d1-422d-86b3-5611e514b3f4",
   "metadata": {},
   "outputs": [],
   "source": []
  },
  {
   "cell_type": "code",
   "execution_count": null,
   "id": "ed8c6698-8687-4087-997d-a12b7ede9912",
   "metadata": {},
   "outputs": [],
   "source": []
  }
 ],
 "metadata": {
  "kernelspec": {
   "display_name": "Python 3 (ipykernel)",
   "language": "python",
   "name": "python3"
  },
  "language_info": {
   "codemirror_mode": {
    "name": "ipython",
    "version": 3
   },
   "file_extension": ".py",
   "mimetype": "text/x-python",
   "name": "python",
   "nbconvert_exporter": "python",
   "pygments_lexer": "ipython3",
   "version": "3.10.8"
  }
 },
 "nbformat": 4,
 "nbformat_minor": 5
}
